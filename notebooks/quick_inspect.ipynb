{
 "cells": [
  {
   "cell_type": "markdown",
   "id": "732bf074",
   "metadata": {},
   "source": [
    "# Quick Inspect: Features & Augmented Samples\n",
    "\n",
    "This notebook shows how to load `data/features_aggregated.csv`, inspect top features (RF importances + permutation), and preview a couple of augmented audio samples under `data/augmented/sample/`."
   ]
  },
  {
   "cell_type": "code",
   "execution_count": null,
   "id": "158affac",
   "metadata": {},
   "outputs": [],
   "source": [
    "import pandas as pd\n",
    "import matplotlib.pyplot as plt\n",
    "import seaborn as sns\n",
    "from IPython.display import Audio, display\n",
    "from pathlib import Path\n",
    "\n",
    "sns.set(style=\"whitegrid\")\n",
    "REPO = Path('..').resolve() if Path('.').name == 'notebooks' else Path('.')\n",
    "feats = pd.read_csv(REPO / 'data' / 'features_aggregated.csv')\n",
    "fi = pd.read_csv(REPO / 'models' / 'baseline' / 'feature_importances.csv')\n",
    "perm = pd.read_csv(REPO / 'models' / 'baseline' / 'permutation_importance_top10_per_class.csv')\n",
    "\n",
    "# show head of features\n",
    "display(feats.head())\n",
    "\n",
    "# plot top 10 RF importances\n",
    "top10 = fi.head(10)\n",
    "plt.figure(figsize=(8,5))\n",
    "sns.barplot(x='importance', y='feature', data=top10)\n",
    "plt.title('Top 10 RandomForest feature importances')\n",
    "plt.tight_layout()\n",
    "plt.show()"
   ]
  },
  {
   "cell_type": "code",
   "execution_count": null,
   "id": "44702993",
   "metadata": {},
   "outputs": [],
   "source": [
    "# show permutation top features for a couple of example classes\n",
    "classes = perm['class'].unique()[:3]  # first 3 classes\n",
    "for cls in classes:\n",
    "    sub = perm[perm['class'] == cls].sort_values('importance', ascending=False).head(10)\n",
    "    print(f'Class: {cls}')\n",
    "    display(sub)"
   ]
  },
  {
   "cell_type": "code",
   "execution_count": null,
   "id": "55c9ab7a",
   "metadata": {},
   "outputs": [],
   "source": [
    "# preview a couple of augmented audio files (if present)\n",
    "aug_root = REPO / 'data' / 'augmented' / 'sample'\n",
    "if aug_root.exists():\n",
    "    examples = list(aug_root.rglob('*.wav'))[:4]\n",
    "    for p in examples:\n",
    "        print(p)\n",
    "        display(Audio(str(p), rate=22050))\n",
    "else:\n",
    "    print('No augmented samples found at', aug_root)"
   ]
  }
 ],
 "metadata": {
  "language_info": {
   "name": "python"
  }
 },
 "nbformat": 4,
 "nbformat_minor": 5
}
